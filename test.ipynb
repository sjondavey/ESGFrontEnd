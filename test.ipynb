{
 "cells": [
  {
   "cell_type": "code",
   "execution_count": 3,
   "metadata": {},
   "outputs": [],
   "source": [
    "import csv\n",
    "import logging\n"
   ]
  },
  {
   "cell_type": "code",
   "execution_count": 6,
   "metadata": {},
   "outputs": [],
   "source": [
    "logging.basicConfig(level=logging.DEBUG)\n",
    "\n",
    "logger = logging.getLogger(__name__)\n",
    "def get_output_path(config_file_path):\n",
    "    logger.debug(f'Reading config file: {config_file_path}')\n",
    "    with open(config_file_path, mode='r') as file:\n",
    "        csv_reader = csv.reader(file)\n",
    "        for row in csv_reader:\n",
    "            logger.debug(f'Row: {row}')\n",
    "            if row and row[0] == 'Output path':\n",
    "                output_path = row[1]\n",
    "                logger.debug(f'Output path found: {output_path}')\n",
    "                return output_path\n",
    "    return None\n"
   ]
  },
  {
   "cell_type": "code",
   "execution_count": 7,
   "metadata": {},
   "outputs": [
    {
     "name": "stderr",
     "output_type": "stream",
     "text": [
      "DEBUG:__main__:Reading config file: /home/steven/code/AutoESG/inputs/AllAssetsInputsLocalFlask.csv\n",
      "DEBUG:__main__:Row: ['Description', 'Value', '', '', '', '', '']\n",
      "DEBUG:__main__:Row: ['Number Of Assets', '4', '', '', '', '', '']\n",
      "DEBUG:__main__:Row: ['Number of paths', '100', '', '', '', '', '']\n",
      "DEBUG:__main__:Row: ['Number of time steps to simulate', '100', '', '', '', '', '']\n",
      "DEBUG:__main__:Row: ['File names with paths', 'FALSE', '', '', '', '', '']\n",
      "DEBUG:__main__:Row: ['Input path', '/home/steven/code/AutoESG/inputs/', '', '', '', '', '']\n",
      "DEBUG:__main__:Row: ['Super correlation', 'SuperCorrelation.csv', '', '', '', '', '']\n",
      "DEBUG:__main__:Row: ['Random numbers (NB Include path info)', '6', '', '', '', '', '']\n",
      "DEBUG:__main__:Row: ['Nominal Rates', 'df_yc0up_20110208.csv', 'NominalSparseSwaption.csv', 'Swap', 'NominalCorrelation.csv', 'Factor', '2']\n",
      "DEBUG:__main__:Row: ['Asset Name', 'Inflation', '', '', '', '', '']\n",
      "DEBUG:__main__:Row: ['Asset Vol', 'ivModelInput_20110208.csv', 'Model Volatility', '', '', '', '']\n",
      "DEBUG:__main__:Row: ['Asset Yield', 'realDiscountFactors.csv', 'realCapParameters.csv', 'Formula', 'realCorrelation.csv', 'Factor', '2']\n",
      "DEBUG:__main__:Row: ['Asset Name', 'E_ZAR', '', '', '', '', '']\n",
      "DEBUG:__main__:Row: ['Asset Vol', 'ev_20110208.csv', 'Price Return Volatility', '', '', '', '']\n",
      "DEBUG:__main__:Row: ['Asset Yield', 'EquityYieldDiscountFactors.csv', 'EquityYieldCapParameters.csv', 'Formula', 'EquityYieldCorrelation.csv', 'Factor', '2']\n",
      "DEBUG:__main__:Row: ['Asset Name', 'OS Equity', '', '', '', '', '']\n",
      "DEBUG:__main__:Row: ['Asset Vol', 'fv_20110208.csv', 'Price Return Volatility', '', '', '', '']\n",
      "DEBUG:__main__:Row: ['Asset Yield', 'ForeignYieldDiscountFactors.csv', 'ForeignYieldCapParameters.csv', 'Formula', 'ForeignYieldCorrelation.csv', 'Factor', '2']\n",
      "DEBUG:__main__:Row: ['Asset Name', 'P_ZAR', '', '', '', '', '']\n",
      "DEBUG:__main__:Row: ['Asset Vol', 'pvModelInput_20110208.csv', 'Model Volatility', '', '', '', '']\n",
      "DEBUG:__main__:Row: ['Asset Yield', 'PropertyYieldDiscountFactors.csv', 'PropertyYieldCapParameters.csv', 'Formula', 'PropertyYieldCorrelation.csv', 'Factor', '2']\n",
      "DEBUG:__main__:Row: ['Output comments', 'TRUE', '', '', '', '', '']\n",
      "DEBUG:__main__:Row: ['Simulate using antithetic variables', 'TRUE', '', '', '', '', '']\n",
      "DEBUG:__main__:Row: ['Output Options', 'AESGOutputs.csv', '', '', '', '', '']\n",
      "DEBUG:__main__:Row: ['Output path', '/home/steven/code/AutoESG/outputs/', '', '', '', '', '']\n",
      "DEBUG:__main__:Output path found: /home/steven/code/AutoESG/outputs/\n"
     ]
    },
    {
     "data": {
      "text/plain": [
       "'/home/steven/code/AutoESG/outputs/'"
      ]
     },
     "execution_count": 7,
     "metadata": {},
     "output_type": "execute_result"
    }
   ],
   "source": [
    "get_output_path('/home/steven/code/AutoESG/inputs/AllAssetsInputsLocalFlask.csv')\n"
   ]
  },
  {
   "cell_type": "code",
   "execution_count": null,
   "metadata": {},
   "outputs": [],
   "source": []
  }
 ],
 "metadata": {
  "kernelspec": {
   "display_name": "env",
   "language": "python",
   "name": "python3"
  },
  "language_info": {
   "codemirror_mode": {
    "name": "ipython",
    "version": 3
   },
   "file_extension": ".py",
   "mimetype": "text/x-python",
   "name": "python",
   "nbconvert_exporter": "python",
   "pygments_lexer": "ipython3",
   "version": "3.8.10"
  }
 },
 "nbformat": 4,
 "nbformat_minor": 2
}
